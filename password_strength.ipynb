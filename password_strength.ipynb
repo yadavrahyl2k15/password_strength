{
  "nbformat": 4,
  "nbformat_minor": 0,
  "metadata": {
    "colab": {
      "name": "password strength.ipynb",
      "provenance": [],
      "mount_file_id": "11OdIiMnnJ76AfqPrlbtRuG_-zITNX4BM",
      "authorship_tag": "ABX9TyNcexr7eaXscxZfGiwCpVuo",
      "include_colab_link": true
    },
    "kernelspec": {
      "name": "python3",
      "display_name": "Python 3"
    }
  },
  "cells": [
    {
      "cell_type": "markdown",
      "metadata": {
        "id": "view-in-github",
        "colab_type": "text"
      },
      "source": [
        "<a href=\"https://colab.research.google.com/github/yadavrahyl2k15/password_strength/blob/main/password_strength.ipynb\" target=\"_parent\"><img src=\"https://colab.research.google.com/assets/colab-badge.svg\" alt=\"Open In Colab\"/></a>"
      ]
    },
    {
      "cell_type": "markdown",
      "metadata": {
        "id": "Q8cwoi1eRxN6"
      },
      "source": [
        "from given we have to find out strength of password i.e 0,1,2 \n",
        "\n",
        "\n",
        "\n"
      ]
    },
    {
      "cell_type": "code",
      "metadata": {
        "id": "O3FrwMRBEIPc"
      },
      "source": [
        "import pandas as pd\n",
        "import numpy as np\n",
        "import seaborn as sns\n",
        "import warnings\n",
        "warnings.filterwarnings(\"ignore\")"
      ],
      "execution_count": 1,
      "outputs": []
    },
    {
      "cell_type": "code",
      "metadata": {
        "colab": {
          "base_uri": "https://localhost:8080/"
        },
        "id": "wgoUpW8DFnhk",
        "outputId": "3abc2b2a-e912-4624-ff4a-cbbeb17e86a3"
      },
      "source": [
        "df=pd.read_csv(\"/content/drive/MyDrive/2.Password Strength-->> .Natural Language Processing/data.csv\",error_bad_lines=False)"
      ],
      "execution_count": 8,
      "outputs": [
        {
          "output_type": "stream",
          "text": [
            "b'Skipping line 2810: expected 2 fields, saw 5\\nSkipping line 4641: expected 2 fields, saw 5\\nSkipping line 7171: expected 2 fields, saw 5\\nSkipping line 11220: expected 2 fields, saw 5\\nSkipping line 13809: expected 2 fields, saw 5\\nSkipping line 14132: expected 2 fields, saw 5\\nSkipping line 14293: expected 2 fields, saw 5\\nSkipping line 14865: expected 2 fields, saw 5\\nSkipping line 17419: expected 2 fields, saw 5\\nSkipping line 22801: expected 2 fields, saw 5\\nSkipping line 25001: expected 2 fields, saw 5\\nSkipping line 26603: expected 2 fields, saw 5\\nSkipping line 26742: expected 2 fields, saw 5\\nSkipping line 29702: expected 2 fields, saw 5\\nSkipping line 32767: expected 2 fields, saw 5\\nSkipping line 32878: expected 2 fields, saw 5\\nSkipping line 35643: expected 2 fields, saw 5\\nSkipping line 36550: expected 2 fields, saw 5\\nSkipping line 38732: expected 2 fields, saw 5\\nSkipping line 40567: expected 2 fields, saw 5\\nSkipping line 40576: expected 2 fields, saw 5\\nSkipping line 41864: expected 2 fields, saw 5\\nSkipping line 46861: expected 2 fields, saw 5\\nSkipping line 47939: expected 2 fields, saw 5\\nSkipping line 48628: expected 2 fields, saw 5\\nSkipping line 48908: expected 2 fields, saw 5\\nSkipping line 57582: expected 2 fields, saw 5\\nSkipping line 58782: expected 2 fields, saw 5\\nSkipping line 58984: expected 2 fields, saw 5\\nSkipping line 61518: expected 2 fields, saw 5\\nSkipping line 63451: expected 2 fields, saw 5\\nSkipping line 68141: expected 2 fields, saw 5\\nSkipping line 72083: expected 2 fields, saw 5\\nSkipping line 74027: expected 2 fields, saw 5\\nSkipping line 77811: expected 2 fields, saw 5\\nSkipping line 83958: expected 2 fields, saw 5\\nSkipping line 85295: expected 2 fields, saw 5\\nSkipping line 88665: expected 2 fields, saw 5\\nSkipping line 89198: expected 2 fields, saw 5\\nSkipping line 92499: expected 2 fields, saw 5\\nSkipping line 92751: expected 2 fields, saw 5\\nSkipping line 93689: expected 2 fields, saw 5\\nSkipping line 94776: expected 2 fields, saw 5\\nSkipping line 97334: expected 2 fields, saw 5\\nSkipping line 102316: expected 2 fields, saw 5\\nSkipping line 103421: expected 2 fields, saw 5\\nSkipping line 106872: expected 2 fields, saw 5\\nSkipping line 109363: expected 2 fields, saw 5\\nSkipping line 110117: expected 2 fields, saw 5\\nSkipping line 110465: expected 2 fields, saw 5\\nSkipping line 113843: expected 2 fields, saw 5\\nSkipping line 115634: expected 2 fields, saw 5\\nSkipping line 121518: expected 2 fields, saw 5\\nSkipping line 123692: expected 2 fields, saw 5\\nSkipping line 124708: expected 2 fields, saw 5\\nSkipping line 129608: expected 2 fields, saw 5\\nSkipping line 133176: expected 2 fields, saw 5\\nSkipping line 135532: expected 2 fields, saw 5\\nSkipping line 138042: expected 2 fields, saw 5\\nSkipping line 139485: expected 2 fields, saw 5\\nSkipping line 140401: expected 2 fields, saw 5\\nSkipping line 144093: expected 2 fields, saw 5\\nSkipping line 149850: expected 2 fields, saw 5\\nSkipping line 151831: expected 2 fields, saw 5\\nSkipping line 158014: expected 2 fields, saw 5\\nSkipping line 162047: expected 2 fields, saw 5\\nSkipping line 164515: expected 2 fields, saw 5\\nSkipping line 170313: expected 2 fields, saw 5\\nSkipping line 171325: expected 2 fields, saw 5\\nSkipping line 171424: expected 2 fields, saw 5\\nSkipping line 175920: expected 2 fields, saw 5\\nSkipping line 176210: expected 2 fields, saw 5\\nSkipping line 183603: expected 2 fields, saw 5\\nSkipping line 190264: expected 2 fields, saw 5\\nSkipping line 191683: expected 2 fields, saw 5\\nSkipping line 191988: expected 2 fields, saw 5\\nSkipping line 195450: expected 2 fields, saw 5\\nSkipping line 195754: expected 2 fields, saw 5\\nSkipping line 197124: expected 2 fields, saw 5\\nSkipping line 199263: expected 2 fields, saw 5\\nSkipping line 202603: expected 2 fields, saw 5\\nSkipping line 209960: expected 2 fields, saw 5\\nSkipping line 213218: expected 2 fields, saw 5\\nSkipping line 217060: expected 2 fields, saw 5\\nSkipping line 220121: expected 2 fields, saw 5\\nSkipping line 223518: expected 2 fields, saw 5\\nSkipping line 226293: expected 2 fields, saw 5\\nSkipping line 227035: expected 2 fields, saw 7\\nSkipping line 227341: expected 2 fields, saw 5\\nSkipping line 227808: expected 2 fields, saw 5\\nSkipping line 228516: expected 2 fields, saw 5\\nSkipping line 228733: expected 2 fields, saw 5\\nSkipping line 232043: expected 2 fields, saw 5\\nSkipping line 232426: expected 2 fields, saw 5\\nSkipping line 234490: expected 2 fields, saw 5\\nSkipping line 239626: expected 2 fields, saw 5\\nSkipping line 240461: expected 2 fields, saw 5\\nSkipping line 244518: expected 2 fields, saw 5\\nSkipping line 245395: expected 2 fields, saw 5\\nSkipping line 246168: expected 2 fields, saw 5\\nSkipping line 246655: expected 2 fields, saw 5\\nSkipping line 246752: expected 2 fields, saw 5\\nSkipping line 247189: expected 2 fields, saw 5\\nSkipping line 250276: expected 2 fields, saw 5\\nSkipping line 255327: expected 2 fields, saw 5\\nSkipping line 257094: expected 2 fields, saw 5\\n'\n",
            "b'Skipping line 264626: expected 2 fields, saw 5\\nSkipping line 265028: expected 2 fields, saw 5\\nSkipping line 269150: expected 2 fields, saw 5\\nSkipping line 271360: expected 2 fields, saw 5\\nSkipping line 273975: expected 2 fields, saw 5\\nSkipping line 274742: expected 2 fields, saw 5\\nSkipping line 276227: expected 2 fields, saw 5\\nSkipping line 279807: expected 2 fields, saw 5\\nSkipping line 283425: expected 2 fields, saw 5\\nSkipping line 287468: expected 2 fields, saw 5\\nSkipping line 292995: expected 2 fields, saw 5\\nSkipping line 293496: expected 2 fields, saw 5\\nSkipping line 293735: expected 2 fields, saw 5\\nSkipping line 295060: expected 2 fields, saw 5\\nSkipping line 296643: expected 2 fields, saw 5\\nSkipping line 296848: expected 2 fields, saw 5\\nSkipping line 308926: expected 2 fields, saw 5\\nSkipping line 310360: expected 2 fields, saw 5\\nSkipping line 317004: expected 2 fields, saw 5\\nSkipping line 318207: expected 2 fields, saw 5\\nSkipping line 331783: expected 2 fields, saw 5\\nSkipping line 333864: expected 2 fields, saw 5\\nSkipping line 335958: expected 2 fields, saw 5\\nSkipping line 336290: expected 2 fields, saw 5\\nSkipping line 343526: expected 2 fields, saw 5\\nSkipping line 343857: expected 2 fields, saw 5\\nSkipping line 344059: expected 2 fields, saw 5\\nSkipping line 348691: expected 2 fields, saw 5\\nSkipping line 353446: expected 2 fields, saw 5\\nSkipping line 357073: expected 2 fields, saw 5\\nSkipping line 359753: expected 2 fields, saw 5\\nSkipping line 359974: expected 2 fields, saw 5\\nSkipping line 366534: expected 2 fields, saw 5\\nSkipping line 369514: expected 2 fields, saw 5\\nSkipping line 377759: expected 2 fields, saw 5\\nSkipping line 379327: expected 2 fields, saw 5\\nSkipping line 380769: expected 2 fields, saw 5\\nSkipping line 381073: expected 2 fields, saw 5\\nSkipping line 381489: expected 2 fields, saw 5\\nSkipping line 386304: expected 2 fields, saw 5\\nSkipping line 387635: expected 2 fields, saw 5\\nSkipping line 389613: expected 2 fields, saw 5\\nSkipping line 392604: expected 2 fields, saw 5\\nSkipping line 393184: expected 2 fields, saw 5\\nSkipping line 395530: expected 2 fields, saw 5\\nSkipping line 396939: expected 2 fields, saw 5\\nSkipping line 397385: expected 2 fields, saw 5\\nSkipping line 397509: expected 2 fields, saw 5\\nSkipping line 402902: expected 2 fields, saw 5\\nSkipping line 405187: expected 2 fields, saw 5\\nSkipping line 408412: expected 2 fields, saw 5\\nSkipping line 419423: expected 2 fields, saw 5\\nSkipping line 420962: expected 2 fields, saw 5\\nSkipping line 425965: expected 2 fields, saw 5\\nSkipping line 427496: expected 2 fields, saw 5\\nSkipping line 438881: expected 2 fields, saw 5\\nSkipping line 439776: expected 2 fields, saw 5\\nSkipping line 440345: expected 2 fields, saw 5\\nSkipping line 445507: expected 2 fields, saw 5\\nSkipping line 445548: expected 2 fields, saw 5\\nSkipping line 447184: expected 2 fields, saw 5\\nSkipping line 448603: expected 2 fields, saw 5\\nSkipping line 451732: expected 2 fields, saw 5\\nSkipping line 458249: expected 2 fields, saw 5\\nSkipping line 460274: expected 2 fields, saw 5\\nSkipping line 467630: expected 2 fields, saw 5\\nSkipping line 473961: expected 2 fields, saw 5\\nSkipping line 476281: expected 2 fields, saw 5\\nSkipping line 478010: expected 2 fields, saw 5\\nSkipping line 478322: expected 2 fields, saw 5\\nSkipping line 479999: expected 2 fields, saw 5\\nSkipping line 480898: expected 2 fields, saw 5\\nSkipping line 481688: expected 2 fields, saw 5\\nSkipping line 485193: expected 2 fields, saw 5\\nSkipping line 485519: expected 2 fields, saw 5\\nSkipping line 486000: expected 2 fields, saw 5\\nSkipping line 489063: expected 2 fields, saw 5\\nSkipping line 494525: expected 2 fields, saw 5\\nSkipping line 495009: expected 2 fields, saw 5\\nSkipping line 501954: expected 2 fields, saw 5\\nSkipping line 508035: expected 2 fields, saw 5\\nSkipping line 508828: expected 2 fields, saw 5\\nSkipping line 509833: expected 2 fields, saw 5\\nSkipping line 510410: expected 2 fields, saw 5\\nSkipping line 518229: expected 2 fields, saw 5\\nSkipping line 520302: expected 2 fields, saw 5\\nSkipping line 520340: expected 2 fields, saw 5\\n'\n",
            "b'Skipping line 525174: expected 2 fields, saw 5\\nSkipping line 526251: expected 2 fields, saw 5\\nSkipping line 529611: expected 2 fields, saw 5\\nSkipping line 531398: expected 2 fields, saw 5\\nSkipping line 534146: expected 2 fields, saw 5\\nSkipping line 544954: expected 2 fields, saw 5\\nSkipping line 553002: expected 2 fields, saw 5\\nSkipping line 553883: expected 2 fields, saw 5\\nSkipping line 553887: expected 2 fields, saw 5\\nSkipping line 553915: expected 2 fields, saw 5\\nSkipping line 554172: expected 2 fields, saw 5\\nSkipping line 563534: expected 2 fields, saw 5\\nSkipping line 565191: expected 2 fields, saw 5\\nSkipping line 574108: expected 2 fields, saw 5\\nSkipping line 574412: expected 2 fields, saw 5\\nSkipping line 575985: expected 2 fields, saw 5\\nSkipping line 580091: expected 2 fields, saw 5\\nSkipping line 582682: expected 2 fields, saw 5\\nSkipping line 585885: expected 2 fields, saw 5\\nSkipping line 590171: expected 2 fields, saw 5\\nSkipping line 591924: expected 2 fields, saw 5\\nSkipping line 592515: expected 2 fields, saw 5\\nSkipping line 593888: expected 2 fields, saw 5\\nSkipping line 596245: expected 2 fields, saw 5\\nSkipping line 607344: expected 2 fields, saw 5\\nSkipping line 607633: expected 2 fields, saw 5\\nSkipping line 610939: expected 2 fields, saw 5\\nSkipping line 613638: expected 2 fields, saw 5\\nSkipping line 615643: expected 2 fields, saw 5\\nSkipping line 615901: expected 2 fields, saw 5\\nSkipping line 617389: expected 2 fields, saw 5\\nSkipping line 634641: expected 2 fields, saw 5\\nSkipping line 635755: expected 2 fields, saw 5\\nSkipping line 646243: expected 2 fields, saw 5\\nSkipping line 647165: expected 2 fields, saw 5\\nSkipping line 648610: expected 2 fields, saw 5\\nSkipping line 648772: expected 2 fields, saw 5\\nSkipping line 651833: expected 2 fields, saw 5\\nSkipping line 653663: expected 2 fields, saw 5\\nSkipping line 656233: expected 2 fields, saw 5\\nSkipping line 656694: expected 2 fields, saw 5\\nSkipping line 659783: expected 2 fields, saw 5\\nSkipping line 660478: expected 2 fields, saw 5\\nSkipping line 661133: expected 2 fields, saw 5\\nSkipping line 661736: expected 2 fields, saw 5\\nSkipping line 669827: expected 2 fields, saw 5\\n'\n"
          ],
          "name": "stderr"
        }
      ]
    },
    {
      "cell_type": "code",
      "metadata": {
        "colab": {
          "base_uri": "https://localhost:8080/",
          "height": 204
        },
        "id": "ayBqfxnpFx06",
        "outputId": "caaee949-7963-4ea8-cd16-ad6aa580c675"
      },
      "source": [
        "df.head()"
      ],
      "execution_count": 10,
      "outputs": [
        {
          "output_type": "execute_result",
          "data": {
            "text/html": [
              "<div>\n",
              "<style scoped>\n",
              "    .dataframe tbody tr th:only-of-type {\n",
              "        vertical-align: middle;\n",
              "    }\n",
              "\n",
              "    .dataframe tbody tr th {\n",
              "        vertical-align: top;\n",
              "    }\n",
              "\n",
              "    .dataframe thead th {\n",
              "        text-align: right;\n",
              "    }\n",
              "</style>\n",
              "<table border=\"1\" class=\"dataframe\">\n",
              "  <thead>\n",
              "    <tr style=\"text-align: right;\">\n",
              "      <th></th>\n",
              "      <th>password</th>\n",
              "      <th>strength</th>\n",
              "    </tr>\n",
              "  </thead>\n",
              "  <tbody>\n",
              "    <tr>\n",
              "      <th>0</th>\n",
              "      <td>kzde5577</td>\n",
              "      <td>1</td>\n",
              "    </tr>\n",
              "    <tr>\n",
              "      <th>1</th>\n",
              "      <td>kino3434</td>\n",
              "      <td>1</td>\n",
              "    </tr>\n",
              "    <tr>\n",
              "      <th>2</th>\n",
              "      <td>visi7k1yr</td>\n",
              "      <td>1</td>\n",
              "    </tr>\n",
              "    <tr>\n",
              "      <th>3</th>\n",
              "      <td>megzy123</td>\n",
              "      <td>1</td>\n",
              "    </tr>\n",
              "    <tr>\n",
              "      <th>4</th>\n",
              "      <td>lamborghin1</td>\n",
              "      <td>1</td>\n",
              "    </tr>\n",
              "  </tbody>\n",
              "</table>\n",
              "</div>"
            ],
            "text/plain": [
              "      password  strength\n",
              "0     kzde5577         1\n",
              "1     kino3434         1\n",
              "2    visi7k1yr         1\n",
              "3     megzy123         1\n",
              "4  lamborghin1         1"
            ]
          },
          "metadata": {
            "tags": []
          },
          "execution_count": 10
        }
      ]
    },
    {
      "cell_type": "code",
      "metadata": {
        "colab": {
          "base_uri": "https://localhost:8080/"
        },
        "id": "oApM0vyLHInc",
        "outputId": "89087a6a-4867-4063-e865-df72548134ff"
      },
      "source": [
        "df['strength'].unique()"
      ],
      "execution_count": 11,
      "outputs": [
        {
          "output_type": "execute_result",
          "data": {
            "text/plain": [
              "array([1, 2, 0])"
            ]
          },
          "metadata": {
            "tags": []
          },
          "execution_count": 11
        }
      ]
    },
    {
      "cell_type": "code",
      "metadata": {
        "colab": {
          "base_uri": "https://localhost:8080/"
        },
        "id": "1WgAj5-IHVYU",
        "outputId": "6f8c1b98-7154-4c12-a75c-f932e478fa12"
      },
      "source": [
        "df.isna().sum()"
      ],
      "execution_count": 12,
      "outputs": [
        {
          "output_type": "execute_result",
          "data": {
            "text/plain": [
              "password    1\n",
              "strength    0\n",
              "dtype: int64"
            ]
          },
          "metadata": {
            "tags": []
          },
          "execution_count": 12
        }
      ]
    },
    {
      "cell_type": "code",
      "metadata": {
        "colab": {
          "base_uri": "https://localhost:8080/",
          "height": 80
        },
        "id": "OZCiDeUqHaIa",
        "outputId": "d7e8bc4f-b350-47da-bef2-a9436a592c31"
      },
      "source": [
        "df[df['password'].isnull()]"
      ],
      "execution_count": 13,
      "outputs": [
        {
          "output_type": "execute_result",
          "data": {
            "text/html": [
              "<div>\n",
              "<style scoped>\n",
              "    .dataframe tbody tr th:only-of-type {\n",
              "        vertical-align: middle;\n",
              "    }\n",
              "\n",
              "    .dataframe tbody tr th {\n",
              "        vertical-align: top;\n",
              "    }\n",
              "\n",
              "    .dataframe thead th {\n",
              "        text-align: right;\n",
              "    }\n",
              "</style>\n",
              "<table border=\"1\" class=\"dataframe\">\n",
              "  <thead>\n",
              "    <tr style=\"text-align: right;\">\n",
              "      <th></th>\n",
              "      <th>password</th>\n",
              "      <th>strength</th>\n",
              "    </tr>\n",
              "  </thead>\n",
              "  <tbody>\n",
              "    <tr>\n",
              "      <th>367579</th>\n",
              "      <td>NaN</td>\n",
              "      <td>0</td>\n",
              "    </tr>\n",
              "  </tbody>\n",
              "</table>\n",
              "</div>"
            ],
            "text/plain": [
              "       password  strength\n",
              "367579      NaN         0"
            ]
          },
          "metadata": {
            "tags": []
          },
          "execution_count": 13
        }
      ]
    },
    {
      "cell_type": "code",
      "metadata": {
        "id": "zxCL5IbFHhK1"
      },
      "source": [
        "df.dropna(inplace=True)"
      ],
      "execution_count": 14,
      "outputs": []
    },
    {
      "cell_type": "code",
      "metadata": {
        "colab": {
          "base_uri": "https://localhost:8080/"
        },
        "id": "aeFA6_bpHoPk",
        "outputId": "20da80a4-3d61-4226-965a-9a2d9266415d"
      },
      "source": [
        "df.isna().sum()"
      ],
      "execution_count": 15,
      "outputs": [
        {
          "output_type": "execute_result",
          "data": {
            "text/plain": [
              "password    0\n",
              "strength    0\n",
              "dtype: int64"
            ]
          },
          "metadata": {
            "tags": []
          },
          "execution_count": 15
        }
      ]
    },
    {
      "cell_type": "code",
      "metadata": {
        "colab": {
          "base_uri": "https://localhost:8080/",
          "height": 296
        },
        "id": "h7Fvo1frHuF3",
        "outputId": "4ba7edba-c951-40f7-f8e7-3fe23bf5b178"
      },
      "source": [
        "sns.countplot(df['strength'])"
      ],
      "execution_count": 16,
      "outputs": [
        {
          "output_type": "execute_result",
          "data": {
            "text/plain": [
              "<matplotlib.axes._subplots.AxesSubplot at 0x7f7f4d017e10>"
            ]
          },
          "metadata": {
            "tags": []
          },
          "execution_count": 16
        },
        {
          "output_type": "display_data",
          "data": {
            "image/png": "[encoded data removed]",
            "text/plain": [
              "<Figure size 432x288 with 1 Axes>"
            ]
          },
          "metadata": {
            "tags": [],
            "needs_background": "light"
          }
        }
      ]
    },
    {
      "cell_type": "markdown",
      "metadata": {
        "id": "4IQ--S4dSAPu"
      },
      "source": [
        "from above plot we can see that is totally imbalaced dataset."
      ]
    },
    {
      "cell_type": "code",
      "metadata": {
        "id": "0wrb-wyrHyFI"
      },
      "source": [
        "password_tuple=np.array(df)                             #coverting data into array"
      ],
      "execution_count": 17,
      "outputs": []
    },
    {
      "cell_type": "code",
      "metadata": {
        "colab": {
          "base_uri": "https://localhost:8080/"
        },
        "id": "Pjn4a7jVH6Kk",
        "outputId": "4c732ac4-b63b-4a95-858d-2a4283444462"
      },
      "source": [
        "password_tuple"
      ],
      "execution_count": 18,
      "outputs": [
        {
          "output_type": "execute_result",
          "data": {
            "text/plain": [
              "array([['kzde5577', 1],\n",
              "       ['kino3434', 1],\n",
              "       ['visi7k1yr', 1],\n",
              "       ...,\n",
              "       ['184520socram', 1],\n",
              "       ['marken22a', 1],\n",
              "       ['fxx4pw4g', 1]], dtype=object)"
            ]
          },
          "metadata": {
            "tags": []
          },
          "execution_count": 18
        }
      ]
    },
    {
      "cell_type": "code",
      "metadata": {
        "id": "GW8PQnI7H9VH"
      },
      "source": [
        "import random                                                    \n",
        "random.shuffle(password_tuple)"
      ],
      "execution_count": 20,
      "outputs": []
    },
    {
      "cell_type": "markdown",
      "metadata": {
        "id": "y7Dhgc6USQID"
      },
      "source": [
        "separate independent and dependent variables as they are array so use list method"
      ]
    },
    {
      "cell_type": "code",
      "metadata": {
        "id": "X1M9LKtnIFxY"
      },
      "source": [
        "x=[label[0] for label in password_tuple]\n",
        "y=[label[1] for label in password_tuple]"
      ],
      "execution_count": 21,
      "outputs": []
    },
    {
      "cell_type": "code",
      "metadata": {
        "colab": {
          "base_uri": "https://localhost:8080/"
        },
        "id": "B_y_99GJL5z5",
        "outputId": "b6d7d7d0-d38f-4b10-efb3-0637cc375ead"
      },
      "source": [
        "x"
      ],
      "execution_count": 24,
      "outputs": [
        {
          "output_type": "execute_result",
          "data": {
            "text/plain": [
              "['kzde5577',\n",
              " 'kzde5577',\n",
              " 'kino3434',\n",
              " 'megzy123',\n",
              " 'visi7k1yr',\n",
              " 'lamborghin1',\n",
              " 'AVYq1lDE4MgAZfNt',\n",
              " 'kino3434',\n",
              " 'v1118714',\n",
              " 'lamborghin1',\n",
              " 'as326159',\n",
              " 'universe2908',\n",
              " 'AVYq1lDE4MgAZfNt',\n",
              " '612035180tok',\n",
              " 'kzde5577',\n",
              " 'g067057895',\n",
              " 'jytifok873',\n",
              " '612035180tok',\n",
              " 'jerusalem393',\n",
              " 'universe2908',\n",
              " 'megzy123',\n",
              " 'idofo673',\n",
              " 'g067057895',\n",
              " '52558000aaa',\n",
              " '52558000aaa',\n",
              " 'kzde5577',\n",
              " 'jytifok873',\n",
              " 'kino3434',\n",
              " 'jytifok873',\n",
              " '52558000aaa',\n",
              " 'kzde5577',\n",
              " 'jerusalem393',\n",
              " 'kzde5577',\n",
              " 'cigicigi123',\n",
              " 'v1118714',\n",
              " 'klara-tershina3H',\n",
              " '612035180tok',\n",
              " 'czuodhj972',\n",
              " 'fahad123',\n",
              " 'u6c8vhow',\n",
              " 'prisonbreak1',\n",
              " 'universe2908',\n",
              " 'cigicigi123',\n",
              " 'prisonbreak1',\n",
              " 'kzde5577',\n",
              " '0169395484a',\n",
              " 'universe2908',\n",
              " '6975038lp',\n",
              " 'jerusalem393',\n",
              " 'yitbos77',\n",
              " 'juliel009',\n",
              " 'exitos2009',\n",
              " '6975038lp',\n",
              " 'prisonbreak1',\n",
              " 'asgaliu11',\n",
              " 'v1118714',\n",
              " 'fk9qi21m',\n",
              " 'jytifok873',\n",
              " 'openup12',\n",
              " 'asgaliu11',\n",
              " '0169395484a',\n",
              " 'khmer100.03278&?><Mnb',\n",
              " 'alimagik1',\n",
              " 'czuodhj972',\n",
              " 'alimagik1',\n",
              " 'tamanagung6',\n",
              " 'idofo673',\n",
              " 'calcifer32',\n",
              " 'ejeko677',\n",
              " 'hpqkoxsn5',\n",
              " 'asv5o9yu',\n",
              " 'memjan123',\n",
              " 'cigicigi123',\n",
              " 'gdfn76',\n",
              " 'hodygid757',\n",
              " 'intel1',\n",
              " 'bozoxik602',\n",
              " 'kunyukbabi69',\n",
              " 'gdfn76',\n",
              " 'Iamthelegend1!',\n",
              " 'g067057895',\n",
              " 'juliana19',\n",
              " 'juliel009',\n",
              " 'rntprns7',\n",
              " 'p2share',\n",
              " 'bgrvl80',\n",
              " 'idofo673',\n",
              " 'ok>bdk',\n",
              " 'fk9qi21m',\n",
              " 'kswa2mrv',\n",
              " 'go7kew7a2po',\n",
              " 'klara-tershina3H',\n",
              " 'kVczcljg4OA25Aeb',\n",
              " 'as326159',\n",
              " '838188linh',\n",
              " 'juliel009',\n",
              " 'matiofox08',\n",
              " 'asgaliu11',\n",
              " 'Iamthelegend1!',\n",
              " 'lsdlsd1',\n",
              " 'prisonbreak1',\n",
              " 'prisonbreak1',\n",
              " 'exitos2009',\n",
              " 'gaymaids1',\n",
              " 'j09000',\n",
              " 'p2share',\n",
              " 'yqugu927',\n",
              " 'k9b8cz6aj2',\n",
              " '6975038lp',\n",
              " 'exitos2009',\n",
              " 'prisonbreak1',\n",
              " 'k9b8cz6aj2',\n",
              " '746xitEGiqObog',\n",
              " 'sknq7m0',\n",
              " 'WUt9IZzE0OQ7PkNE',\n",
              " '52558000aaa',\n",
              " '3vszncp4',\n",
              " 'elyass15@ajilent-ci',\n",
              " 'ok>bdk',\n",
              " 'universe2908',\n",
              " 'kunyukbabi69',\n",
              " 'hayhayq2',\n",
              " 'xiau5ff',\n",
              " 'hodygid757',\n",
              " 'j09000',\n",
              " 'kino3434',\n",
              " 'gaymaids1',\n",
              " 'rntprns7',\n",
              " 'exitos2009',\n",
              " 'jonothepoop1',\n",
              " 'a2531106',\n",
              " 'teemteem97',\n",
              " 'jUV4dSDQwNwPpA36',\n",
              " 'kunyukbabi69',\n",
              " '3vszncp4',\n",
              " 'znbl5tj1',\n",
              " 'farrukhcse12',\n",
              " 'matiofox08',\n",
              " 'RqsuUsDYxNgr8T40',\n",
              " 'oekojWyH120063',\n",
              " 'ldteugao6',\n",
              " 'exitos2009',\n",
              " 'fk9qi21m',\n",
              " '283671gus',\n",
              " 'pHyqueDIyNQ8vmhb',\n",
              " 'intel1',\n",
              " 'ga98SIzk0NwhiZaE',\n",
              " 'ns2b0727',\n",
              " 'kzde5577',\n",
              " 'mmm23mm',\n",
              " '5gzj5uf',\n",
              " 'kino3434',\n",
              " '52558000aaa',\n",
              " 'ikanez886',\n",
              " 'j09000',\n",
              " 'RPFUOUDQwMwVW0AS',\n",
              " 'juliana19',\n",
              " 's4m2dx9e6',\n",
              " 'www32223222',\n",
              " 'bozoxik602',\n",
              " 'hpqkoxsn5',\n",
              " 'yuri110995',\n",
              " 'zoobike04',\n",
              " 'poseidon2011',\n",
              " 'kswa2mrv',\n",
              " 'Iamthelegend1!',\n",
              " 'gdfn76',\n",
              " 'khmer100.03278&?><Mnb',\n",
              " 'meopvywk628',\n",
              " '64959rodro',\n",
              " 'gdfn76',\n",
              " 'obstacle25',\n",
              " 'gaymaids1',\n",
              " 'p2share',\n",
              " '52558000aaa',\n",
              " 'go7kew7a2po',\n",
              " 'czuodhj972',\n",
              " 'hodygid757',\n",
              " 'pato221182',\n",
              " 'xyws951753',\n",
              " 'yitbos77',\n",
              " 'sanki1',\n",
              " 'go7kew7a2po',\n",
              " 'bozoxik602',\n",
              " 'exitos2009',\n",
              " 'omakiva153',\n",
              " 'TyWM72UNEex8Q8Y',\n",
              " 'obstacle25',\n",
              " 'poseidon2011',\n",
              " 'cesarmaio1',\n",
              " 'warriors08',\n",
              " 'hodygid757',\n",
              " 'yu4cmn',\n",
              " 'farrukhcse12',\n",
              " 'hayhayq2',\n",
              " 'kjkjkj1',\n",
              " '929865yt',\n",
              " 'jonothepoop1',\n",
              " '746xitEGiqObog',\n",
              " 'igejasy712',\n",
              " 'olmaz.',\n",
              " 'exitos2009',\n",
              " 'juliana19',\n",
              " 'polo2014',\n",
              " 'woon12',\n",
              " 'elonex24',\n",
              " '123477889a',\n",
              " 'meriton23',\n",
              " 'fk9qi21m',\n",
              " 'zgmfnwuq25',\n",
              " 'meopvywk628',\n",
              " 'kino3434',\n",
              " 'IjUcOtYqAwel725',\n",
              " 'kVczcljg4OA25Aeb',\n",
              " '215466kenyi',\n",
              " 'mickael12',\n",
              " 'finisterra1',\n",
              " 'lsdlsd1',\n",
              " '159951josh',\n",
              " 'wxS2ztDk4OATjBfI',\n",
              " 'mike09',\n",
              " 'teemteem97',\n",
              " 'intel1',\n",
              " 's4m2dx9e6',\n",
              " '26522876p',\n",
              " 'nK0yKXTU0NQHZE2e',\n",
              " 'nK0yKXTU0NQHZE2e',\n",
              " '26522876p',\n",
              " '4fqa52vecr',\n",
              " 'mike09',\n",
              " 'ikanez886',\n",
              " 'juliana19',\n",
              " '4osxw4r',\n",
              " 'mike09',\n",
              " 'omakiva153',\n",
              " '2fakjv',\n",
              " '6975038lp',\n",
              " 'yllime123',\n",
              " 'jalal123456',\n",
              " 'yk530mg8',\n",
              " 'mickael12',\n",
              " 'juliana19',\n",
              " 'p2share',\n",
              " 's9830950044',\n",
              " '26522876p',\n",
              " 'juliana19',\n",
              " 'polo2014',\n",
              " 'puegwajy416',\n",
              " '6tequila6',\n",
              " '746xitEGiqObog',\n",
              " 'qn5xpg3k00',\n",
              " 'AVYq1lDE4MgAZfNt',\n",
              " 'gdfn76',\n",
              " '838188linh',\n",
              " 'pato221182',\n",
              " 'vgnfs495vp',\n",
              " 'khmer100.03278&?><Mnb',\n",
              " 'p2share',\n",
              " 'intel1',\n",
              " 'moimoimoi9',\n",
              " 'tia150979',\n",
              " 'obstacle25',\n",
              " 'yk530mg8',\n",
              " 'krumbul123',\n",
              " 'ga98SIzk0NwhiZaE',\n",
              " 'sarahi1628',\n",
              " 'visi7k1yr',\n",
              " '929865yt',\n",
              " 'jonothepoop1',\n",
              " 'sbaUsoTA1OAzuevI',\n",
              " 'nello11',\n",
              " 'tamanagung6',\n",
              " 'trabajonet9',\n",
              " 'virush1n1',\n",
              " 'alimagik1',\n",
              " 'universe2908',\n",
              " 'a2531106',\n",
              " 'megzy123',\n",
              " 's9830950044',\n",
              " 'tamanagung6',\n",
              " 'kswa2mrv',\n",
              " 'kVczcljg4OA25Aeb',\n",
              " '283671gus',\n",
              " 'v10rica',\n",
              " 'cockw0mble',\n",
              " 'schalke04',\n",
              " 'frhnsvelhfr1',\n",
              " 'a110804032',\n",
              " 'juliel009',\n",
              " 'j09000',\n",
              " 'hayhayq2',\n",
              " 'wisal1234',\n",
              " 'kikeq102',\n",
              " 'as326159',\n",
              " 'sbl571017',\n",
              " 'djngeyut2707',\n",
              " 'patty94',\n",
              " 'u6c8vhow',\n",
              " 'mustang337',\n",
              " 'sarahi1628',\n",
              " 'mustang337',\n",
              " 'cigicigi123',\n",
              " 'tahseen75',\n",
              " 'rLLh4WDQ2OAWbDO5',\n",
              " 'rLLh4WDQ2OAWbDO5',\n",
              " 'exitos2009',\n",
              " 'patty94',\n",
              " '612035180tok',\n",
              " '2021848709.',\n",
              " '3CgRg8DA1NQY1iEj',\n",
              " 's0xwym7h',\n",
              " '929865yt',\n",
              " '6975038lp',\n",
              " 'elyass15@ajilent-ci',\n",
              " 'd04m11',\n",
              " 'afs34214',\n",
              " 'sysoja794',\n",
              " 'DTUQG5jU5MwmR1L9',\n",
              " 'pHyqueDIyNQ8vmhb',\n",
              " 'mazdarx7',\n",
              " 'zgmfnwuq25',\n",
              " '52558000aaa',\n",
              " 'ebacuro434',\n",
              " 'ga98SIzk0NwhiZaE',\n",
              " '0169395484a',\n",
              " 'x8512514',\n",
              " '20010509wang',\n",
              " '283671gus',\n",
              " 'kP82iqDMxNgBMxBP',\n",
              " 'yqugu927',\n",
              " 'peluchin4',\n",
              " 'il0vey0u',\n",
              " 'v10rica',\n",
              " 't8IkFRDIxMAFV2JW',\n",
              " 'matiofox08',\n",
              " 'juany57',\n",
              " 'memjan123',\n",
              " 'hasan18',\n",
              " 'k9b8cz6aj2',\n",
              " 'demon10',\n",
              " 'bellsuki1',\n",
              " 'intel1',\n",
              " '838188linh',\n",
              " 'rogyh820',\n",
              " '2021848709.',\n",
              " '612035180tok',\n",
              " '123maxbala',\n",
              " 'kino3434',\n",
              " 'yk530mg8',\n",
              " 'hisnipes1',\n",
              " 'icap12',\n",
              " 'v10rica',\n",
              " 'xp;ysmybst',\n",
              " '2akira2',\n",
              " 'oioo9og',\n",
              " 'gkrqjs6',\n",
              " 'x0004534',\n",
              " 'p@sslng2diword',\n",
              " 'shotiko18',\n",
              " 'xiau5ff',\n",
              " 'hpqkoxsn5',\n",
              " 'sofietou74',\n",
              " 'matiofox08',\n",
              " 'mathilde54550',\n",
              " '20Dgw7TQ0OQVdly7',\n",
              " '5gzj5uf',\n",
              " '26522876p',\n",
              " 'moken7',\n",
              " 'meriton23',\n",
              " 'vehat387',\n",
              " 'krumbul123',\n",
              " 'lrhxmevb620',\n",
              " 'witek1709',\n",
              " 'a110804032',\n",
              " 'gdfn76',\n",
              " 'taurofive16',\n",
              " '64959rodro',\n",
              " 'nokia6020',\n",
              " 'openup12',\n",
              " 'bozoxik602',\n",
              " 'wycinu436',\n",
              " 'zidadoh258',\n",
              " 'gerardway1',\n",
              " 'kunyukbabi69',\n",
              " 'a2486315',\n",
              " 'elyass15@ajilent-ci',\n",
              " 'kuntz80',\n",
              " 'polo2014',\n",
              " 'ram@!sita15392',\n",
              " 'abizar08',\n",
              " 'schalke04',\n",
              " 'icap12',\n",
              " 'webstudio8',\n",
              " 'czuodhj972',\n",
              " 'jbtcnd6',\n",
              " 'sanki1',\n",
              " 'mazdarx7',\n",
              " '1katertje',\n",
              " 'trabajonet9',\n",
              " 'wuzyci421',\n",
              " 'u03kz6ez',\n",
              " 'djngeyut2707',\n",
              " 'zidadoh258',\n",
              " 'nello11',\n",
              " 'afavin964',\n",
              " 'ajyrew547',\n",
              " 'wisal1234',\n",
              " 'v10rica',\n",
              " 'bencike7',\n",
              " 'josue12',\n",
              " 'ryjypes139',\n",
              " 'p2share',\n",
              " 'fk9qi21m',\n",
              " 's9830950044',\n",
              " '159951josh',\n",
              " 'gandhi8513',\n",
              " 'fahad123',\n",
              " 'openup12',\n",
              " 'pablo321159',\n",
              " 'bugatti01',\n",
              " 'u03kz6ez',\n",
              " 'kabrito1',\n",
              " 'xtswdypgh936',\n",
              " 'z888888',\n",
              " 'k1k2k3k4k5k6',\n",
              " 'x8512514',\n",
              " 'iwaguh884',\n",
              " 'kitty555',\n",
              " 'mustang337',\n",
              " 'webstudio8',\n",
              " 'parvizrus13',\n",
              " 'novelia21',\n",
              " 'lrhxmevb620',\n",
              " 'senghong2009',\n",
              " 'kuntz80',\n",
              " 'teemteem97',\n",
              " 'jUV4dSDQwNwPpA36',\n",
              " 'k9b8cz6aj2',\n",
              " 'den019520',\n",
              " 'studenko123',\n",
              " 'owote852',\n",
              " 'clave08',\n",
              " 'pHyqueDIyNQ8vmhb',\n",
              " 'terrassa6',\n",
              " 'bugatti01',\n",
              " 'd4xQ3LjUwMQFVCYQ',\n",
              " 'go7kew7a2po',\n",
              " '7mV0pKTA3MgHy8Jv',\n",
              " '1qa2ws3ed4r',\n",
              " '7942vikas',\n",
              " 'clave2013',\n",
              " '0112358mayin0',\n",
              " '123maxbala',\n",
              " 'autan88',\n",
              " 'cockw0mble',\n",
              " 'bencike7',\n",
              " 'ns2b0727',\n",
              " 'znbl5tj1',\n",
              " 'patty94',\n",
              " 'megzy123',\n",
              " 'a0972986650',\n",
              " '838188linh',\n",
              " 'yuri110995',\n",
              " 'change201',\n",
              " 'meriton23',\n",
              " 'gill02',\n",
              " 'ycqtgdso3',\n",
              " 'servbot88',\n",
              " 'kyodai666',\n",
              " 'sebo82',\n",
              " 'tukaxo486',\n",
              " 'RPFUOUDQwMwVW0AS',\n",
              " '3vszncp4',\n",
              " 'vehat387',\n",
              " 'kjkjkj1',\n",
              " 'juliel009',\n",
              " 'zgmfnwuq25',\n",
              " 'kzde5577',\n",
              " '1ngaymuadong',\n",
              " 'jUV4dSDQwNwPpA36',\n",
              " 'tukaxo486',\n",
              " 'gerardway1',\n",
              " 'schalke04',\n",
              " 'kah4544875',\n",
              " 'kVczcljg4OA25Aeb',\n",
              " '0870330135a',\n",
              " '1972vishara',\n",
              " 'folashade1',\n",
              " '123477889a',\n",
              " 'cdann123',\n",
              " 't8IkFRDIxMAFV2JW',\n",
              " 'q0pv0fk',\n",
              " 'sofietou74',\n",
              " 'afavin964',\n",
              " 'we34dar88',\n",
              " 't8IkFRDIxMAFV2JW',\n",
              " 'ajyrew547',\n",
              " 'khaled12',\n",
              " '847XagYxUHUXOW',\n",
              " 'parent777',\n",
              " 'kswa2mrv',\n",
              " 'asv5o9yu',\n",
              " '123477889a',\n",
              " '0169395484a',\n",
              " 'gkrqjs6',\n",
              " 'yzxwvgbdu503',\n",
              " 'ts34a3fodh3i',\n",
              " 'pilatyj280',\n",
              " 'ikanez886',\n",
              " 'barra23',\n",
              " 'koabcswzt3',\n",
              " 'virush1n1',\n",
              " 'wycinu436',\n",
              " 'p2share',\n",
              " 'icap12',\n",
              " 'uoaef06gfqeb',\n",
              " 'jalal123456',\n",
              " '07dpv1127b',\n",
              " 'u6c8vhow',\n",
              " '2652033abc',\n",
              " 'kyodai666',\n",
              " 'virush1n1',\n",
              " 'IRZA98',\n",
              " 'sofietou74',\n",
              " 'xf6385494',\n",
              " 'Ju6BIMTU0MwYXtL4',\n",
              " '746xitEGiqObog',\n",
              " 'vehat387',\n",
              " 'arigato3',\n",
              " '123maxbala',\n",
              " 'oatcake87',\n",
              " '929865yt',\n",
              " 'vardhan19',\n",
              " 'ayles2266',\n",
              " 'trabajonet9',\n",
              " 'ns2b0727',\n",
              " 'u03kz6ez',\n",
              " 'g3rappa',\n",
              " '1234159hero',\n",
              " 'kenneth610',\n",
              " 'AVYq1lDE4MgAZfNt',\n",
              " 'atigi839',\n",
              " 'muoaqxwc21',\n",
              " 'fr8OClDY1MAdEhHa',\n",
              " 'djngeyut2707',\n",
              " 'tia150979',\n",
              " 'sandra0547',\n",
              " 'graciela2',\n",
              " 'njmania114',\n",
              " 'uziwocy148',\n",
              " 'k1k2k3k4k5k6',\n",
              " 'synyxyr723',\n",
              " 'galoucura1',\n",
              " 'z3ro1sm',\n",
              " 'g067057895',\n",
              " 'samael666',\n",
              " '19840510kkk1',\n",
              " '6tequila6',\n",
              " 'lrhxmevb620',\n",
              " '1justogax',\n",
              " 'han19660120',\n",
              " '2863e00016',\n",
              " 'nokia6020',\n",
              " '1991vikash',\n",
              " 'hayhayq2',\n",
              " 'tim80327',\n",
              " 'sasuke4',\n",
              " 'openup12',\n",
              " 'rogyh820',\n",
              " 'xiau5ff',\n",
              " '01161590m',\n",
              " 'adminmao888',\n",
              " 'ayles2266',\n",
              " 'IRZA98',\n",
              " 'pazzini24',\n",
              " 'terrassa6',\n",
              " '1972vishara',\n",
              " 'wearehis7',\n",
              " 's0xwym7h',\n",
              " 'Scipio21152030067254',\n",
              " 'matiofox08',\n",
              " 'tspirits08',\n",
              " 'gill02',\n",
              " 'znbl5tj1',\n",
              " 'y0unus',\n",
              " 'beijing168',\n",
              " 'memjan123',\n",
              " 'rntprns7',\n",
              " 'p3rf3ct0',\n",
              " 'poseidon2011',\n",
              " '2yz4ewwg',\n",
              " 'finisterra1',\n",
              " 'pass0port',\n",
              " '52558000aaa',\n",
              " 'qn5xpg3k00',\n",
              " 'a2531106',\n",
              " 'u03kz6ez',\n",
              " 'taiga0088',\n",
              " '64whbrb351',\n",
              " 'wisal1234',\n",
              " 'g067057895',\n",
              " 'limichan99',\n",
              " 'peluchin4',\n",
              " 'qwekl12',\n",
              " 'vietnga92',\n",
              " 'acgyj188',\n",
              " 'kuntz80',\n",
              " 'a110804032',\n",
              " 'fudijep286',\n",
              " 'cristiano7',\n",
              " 'jUV4dSDQwNwPpA36',\n",
              " 'tspirits08',\n",
              " '8g8x2su3',\n",
              " 'sbl571017',\n",
              " 'rsuvxz08b',\n",
              " '52558000aaa',\n",
              " '838188linh',\n",
              " 'control9',\n",
              " 'woon12',\n",
              " 'peluchin4',\n",
              " 'cdann123',\n",
              " 'tim80327',\n",
              " 'klara-tershina3H',\n",
              " 'damyvo114',\n",
              " '19840510kkk1',\n",
              " 'sydney213',\n",
              " 'elabadmin1386',\n",
              " 'wibi182d',\n",
              " '5gzj5uf',\n",
              " 'u6c8vhow',\n",
              " 'hosna1368',\n",
              " 'ykfums1',\n",
              " 'xiau5ff',\n",
              " 'kinga22',\n",
              " 'Staterkom20081993',\n",
              " 'patata91',\n",
              " '12345yolanda',\n",
              " 'trabajonet9',\n",
              " 'llahetihw1',\n",
              " 'kukimuki123',\n",
              " 'ykfums1',\n",
              " 'nello11',\n",
              " 'yogesh143',\n",
              " 'm4r4hne',\n",
              " 'gill02',\n",
              " 'poseidon2011',\n",
              " 'bencike7',\n",
              " 'tamanagung6',\n",
              " 'VMjz4eTkxNAbOyUU',\n",
              " 'urban1',\n",
              " 'aslanmarco007',\n",
              " '2GnTStTE4Mw4MTwv',\n",
              " 'Scipio21152030067254',\n",
              " 'xtswdypgh936',\n",
              " 'x0004534',\n",
              " 'olyucskw52',\n",
              " 'juany57',\n",
              " 'weicat12',\n",
              " 'edcmki90',\n",
              " 'adminmao888',\n",
              " '7942vikas',\n",
              " 'a03242241431a',\n",
              " 'ycqtgdso3',\n",
              " 'macias2010',\n",
              " 'azerty32',\n",
              " 'sofietou74',\n",
              " 'polo2014',\n",
              " 'q0pv0fk',\n",
              " 'TyWM72UNEex8Q8Y',\n",
              " 'farrukhcse12',\n",
              " 'mathilde54550',\n",
              " 'zoobike04',\n",
              " '12345yolanda',\n",
              " 'gozv3e5',\n",
              " 'w1ll1ams',\n",
              " 'nK0yKXTU0NQHZE2e',\n",
              " 'faqih82',\n",
              " 'nK0yKXTU0NQHZE2e',\n",
              " 'il0vey0u',\n",
              " 'mike09',\n",
              " 'AS0130066',\n",
              " 'wbtdrieus345',\n",
              " 'khaled12',\n",
              " 'paladinas1',\n",
              " 'YADHJIGSAWS11',\n",
              " 'exusop649',\n",
              " 'v1s2c3456',\n",
              " 'twil8x0',\n",
              " 'clave2013',\n",
              " 'jcav26',\n",
              " 'GGmm26120904..',\n",
              " 'YADHJIGSAWS11',\n",
              " 'j09000',\n",
              " 'ilunia20',\n",
              " 'k9b8cz6aj2',\n",
              " 'znbl5tj1',\n",
              " 'klara-tershina3H',\n",
              " 'pikey231',\n",
              " 'la3na4you',\n",
              " 'ycqtgdso3',\n",
              " 'patty94',\n",
              " 'yjuqseb416',\n",
              " 'xanyrum650',\n",
              " 'jbtcnd6',\n",
              " 'LypOJUfuLYrO477',\n",
              " 'mazdarx7',\n",
              " 'kayal123',\n",
              " 'vocal0619',\n",
              " 'vardhan19',\n",
              " 'gaymaids1',\n",
              " '19840510kkk1',\n",
              " 'DTUQG5jU5MwmR1L9',\n",
              " 'lamborghin1',\n",
              " 'Scipio21152030067254',\n",
              " 'juany57',\n",
              " 'kinga22',\n",
              " 'go7kew7a2po',\n",
              " 'elabadmin1386',\n",
              " 'whosdabest1',\n",
              " 'whosdabest1',\n",
              " 'xyws951753',\n",
              " 'zcsntdmhe098',\n",
              " 'taulant123',\n",
              " '9950twofour0',\n",
              " 'gracimir87',\n",
              " 'meriton23',\n",
              " '2akira2',\n",
              " 'spl51190595',\n",
              " 'senghong2009',\n",
              " 'pardalgg5',\n",
              " 'skoda06',\n",
              " 'xanyrum650',\n",
              " 'iubat09',\n",
              " 'parent777',\n",
              " 'change201',\n",
              " 'ginger972',\n",
              " 'krishna2',\n",
              " '631ihOZogELoVap',\n",
              " 'samael666',\n",
              " 'nK0yKXTU0NQHZE2e',\n",
              " '101010hadis',\n",
              " 'sbl571017',\n",
              " '12345yolanda',\n",
              " 'hylefup708',\n",
              " 'examy624',\n",
              " '123477889a',\n",
              " 'deryxi704',\n",
              " 'igejasy712',\n",
              " 'fr8OClDY1MAdEhHa',\n",
              " 'xtswdypgh936',\n",
              " 'v8porwar3',\n",
              " 'uou2dae',\n",
              " 'pxjwmeqyn5',\n",
              " 'wuzyci421',\n",
              " 'paladinas1',\n",
              " 'balamuc123',\n",
              " 'mickael12',\n",
              " 'vuqADUSatAJO800',\n",
              " 'mtvwyz001',\n",
              " 'sun4shine76',\n",
              " 'rLLh4WDQ2OAWbDO5',\n",
              " 'graciela2',\n",
              " '4osxw4r',\n",
              " 'poseidon2011',\n",
              " 'osimeytju12',\n",
              " 'ebogel225',\n",
              " 'naseKoBUMIg295',\n",
              " 'mega0109',\n",
              " 'bgrvl80',\n",
              " '612035180tok',\n",
              " '612035180tok',\n",
              " 'tiga33',\n",
              " 'jekkmoeder>',\n",
              " 'yami12',\n",
              " 'woon12',\n",
              " 'ram@!sita15392',\n",
              " 'bgrvl80',\n",
              " 'v1s2c3456',\n",
              " 'alhama11408',\n",
              " 'denise18',\n",
              " 'medebizu3',\n",
              " 'mdaffandi74',\n",
              " 'matha81',\n",
              " 'planes123',\n",
              " 'jsm159167',\n",
              " '69556236gu',\n",
              " 'xtswdypgh936',\n",
              " 'bugatti01',\n",
              " 'pilatyj280',\n",
              " 'moken7',\n",
              " 'woon12',\n",
              " 'calcifer32',\n",
              " 'matiofox08',\n",
              " 'oatcake87',\n",
              " 'yqugu927',\n",
              " 'sydney213',\n",
              " 'arigato3',\n",
              " 'akucinta12',\n",
              " '2akira2',\n",
              " 'afs34214',\n",
              " 'nokia6020',\n",
              " 'mayur@8netinfotech',\n",
              " 'jj46azbo',\n",
              " 'wycinu436',\n",
              " 'visi7k1yr',\n",
              " 'gtlek',\n",
              " 'password0880',\n",
              " '64whbrb351',\n",
              " 'brokensong54',\n",
              " '241189dumai',\n",
              " 'asgaliu11',\n",
              " 'amandine666',\n",
              " 'matiofox08',\n",
              " 't8IkFRDIxMAFV2JW',\n",
              " 'mdaffandi74',\n",
              " 'regodib479',\n",
              " 'kevin24',\n",
              " 'afs34214',\n",
              " 'IRZA98',\n",
              " 'komorek11',\n",
              " 'colorado27',\n",
              " 'ram@!sita15392',\n",
              " 'akucinta12',\n",
              " 'technofolle95',\n",
              " 'iL1BEmTUyMg8YYbn',\n",
              " '746xitEGiqObog',\n",
              " 'ts34a3fodh3i',\n",
              " 'afan520307',\n",
              " 'abizar08',\n",
              " 'bang6k',\n",
              " 'k1k2k3k4k5k6',\n",
              " 'iubat09',\n",
              " 'juliana19',\n",
              " '9950twofour0',\n",
              " 'asgaliu11',\n",
              " 'wjngzro27',\n",
              " 'lqksuym982',\n",
              " 'nello11',\n",
              " '4lgYVfzk1MwuzHcn',\n",
              " '763EBFC5',\n",
              " '1234159hero',\n",
              " 'iacool99',\n",
              " 'designer1206',\n",
              " 'upyjlneg80',\n",
              " 'xlxlxl777',\n",
              " 'krumbul123',\n",
              " 'YADHJIGSAWS11',\n",
              " 'sw10d014',\n",
              " 'alodise603',\n",
              " 'sandra0547',\n",
              " '2akira2',\n",
              " 'mohantra1',\n",
              " 'X9WVojjE4MgVAIiR',\n",
              " 'vijay1995',\n",
              " 'hard7ware',\n",
              " 'Oshity07142014',\n",
              " 'keithcutlip99',\n",
              " 'pastorius88',\n",
              " 'nhiannei040',\n",
              " 'PEPITO00',\n",
              " 'ilunia20',\n",
              " 'nndcvf1',\n",
              " 'x57669',\n",
              " 'cerner09',\n",
              " 'b9m7cxcgc',\n",
              " 'kP82iqDMxNgBMxBP',\n",
              " '0870330135a',\n",
              " 'wbtdrieus345',\n",
              " 'YanH2kzgxMw1AsXA',\n",
              " 'weicat12',\n",
              " '9950twofour0',\n",
              " 'ebacuro434',\n",
              " 'yitbos77',\n",
              " 'clumsy0619',\n",
              " '1jancok',\n",
              " 'killer5',\n",
              " 'naseKoBUMIg295',\n",
              " 'metopelo1623',\n",
              " 'ts02521712',\n",
              " 'saule123',\n",
              " '19821010a',\n",
              " 'Iamthelegend1!',\n",
              " 'eeae14li',\n",
              " 'YADHJIGSAWS11',\n",
              " 'XqMB7vDMzOQocAFV',\n",
              " 'elabadmin1386',\n",
              " 'pap0spep0s',\n",
              " 'zedika521',\n",
              " '16731673ir',\n",
              " 'osimeytju12',\n",
              " 'chiefwanker1',\n",
              " 'guliotth82',\n",
              " 'paola1995',\n",
              " 'jorge1489',\n",
              " 'darza6534',\n",
              " 'sbl571017',\n",
              " 'krowka18',\n",
              " 'bafiqkxwu0',\n",
              " 'jerusalem393',\n",
              " 'elperro1',\n",
              " '2021848709.',\n",
              " 'ts34a3fodh3i',\n",
              " '0lELoCDI1NAy8u7D',\n",
              " 'pekai2004',\n",
              " 'jose30209',\n",
              " 'potatobus150',\n",
              " '2010server',\n",
              " 'josef0867',\n",
              " 'aqyba894',\n",
              " 'exusop649',\n",
              " 'gracimir87',\n",
              " 'parvizrus13',\n",
              " 'orzwnyj91',\n",
              " 'jose30209',\n",
              " 'v8porwar3',\n",
              " 'p0lp0l',\n",
              " 'pxjwmeqyn5',\n",
              " '1A2Z3E4R',\n",
              " 'studenko123',\n",
              " 'c1brb3lt',\n",
              " 'yhwbzci130',\n",
              " 'idofo673',\n",
              " 'tahseen75',\n",
              " 'zeeshanbhai1',\n",
              " '4TXr5KDYxNQVTo4g',\n",
              " 'keithar1',\n",
              " 'afan520307',\n",
              " 'akfrdma813',\n",
              " 'kdl9cl53',\n",
              " 'xanyrum650',\n",
              " 'paws1111',\n",
              " 'laedbchsx687',\n",
              " 'tspirits08',\n",
              " 'ebacuro434',\n",
              " 'Scipio21152030067254',\n",
              " 'hpw1907v',\n",
              " '746xitEGiqObog',\n",
              " 'medebizu3',\n",
              " 'islamasma12',\n",
              " 'cdann123',\n",
              " 'lucky7777',\n",
              " 'matiz4533',\n",
              " 'bellsuki1',\n",
              " 'elyass15@ajilent-ci',\n",
              " 'xawipy995',\n",
              " 'webhost08',\n",
              " 'intel1',\n",
              " 'IRZA98',\n",
              " 'gutergut599',\n",
              " 'lizndina1',\n",
              " 'vuqADUSatAJO800',\n",
              " 'ram@!sita15392',\n",
              " 'Truelove19902610',\n",
              " 'smart95',\n",
              " 'vertikal12',\n",
              " 'denise18',\n",
              " 'qn5xpg3k00',\n",
              " 'tukaxo486',\n",
              " 'mustang337',\n",
              " 'yqugu927',\n",
              " 'cockw0mble',\n",
              " '23deagosto',\n",
              " 'kuntz80',\n",
              " 'ryjypes139',\n",
              " 'gkrqjs6',\n",
              " 'hayhayq2',\n",
              " 'savas123x',\n",
              " 'beijing168',\n",
              " 'yilmaz070',\n",
              " 't8IkFRDIxMAFV2JW',\n",
              " 'elperro1',\n",
              " 'korea2010',\n",
              " 'sebo82',\n",
              " 'alchimie79',\n",
              " 'gracimir87',\n",
              " 'kry1z9',\n",
              " 'ukyzopi369',\n",
              " 'bellsuki1',\n",
              " 'lzhzad1989',\n",
              " 'xW8-3w7-MFB-CKH',\n",
              " 'IjUcOtYqAwel725',\n",
              " 'shooting1965j',\n",
              " 'barra23',\n",
              " 'seeyouagain1',\n",
              " 'servbot88',\n",
              " 'wuzsadav933',\n",
              " '763EBFC5',\n",
              " 'mortada7',\n",
              " 'jesmond26',\n",
              " 'sofietou74',\n",
              " '52756652a',\n",
              " 'mortada7',\n",
              " '00J46LTAxMgME7C4',\n",
              " '2d0d7qfz',\n",
              " '746xitEGiqObog',\n",
              " 'yamiburgo1',\n",
              " 'wuzyci421',\n",
              " 'z3ro1sm',\n",
              " 'x57669',\n",
              " 'cesarmaio1',\n",
              " ...]"
            ]
          },
          "metadata": {
            "tags": []
          },
          "execution_count": 24
        }
      ]
    },
    {
      "cell_type": "code",
      "metadata": {
        "id": "ddyRshw1IbH1"
      },
      "source": [
        "def word_divide_char(inputs):                           #to covert array in character and then use TF-IDF to use it\n",
        "  character=[]\n",
        "  for i in inputs:\n",
        "    character.append(i)\n",
        "  return character"
      ],
      "execution_count": 22,
      "outputs": []
    },
    {
      "cell_type": "code",
      "metadata": {
        "colab": {
          "base_uri": "https://localhost:8080/"
        },
        "id": "GxmLPl7xL20s",
        "outputId": "985cb2fb-2742-4f55-fbe2-fe97c9eea916"
      },
      "source": [
        "word_divide_char('bellsuki1')"
      ],
      "execution_count": 26,
      "outputs": [
        {
          "output_type": "execute_result",
          "data": {
            "text/plain": [
              "['b', 'e', 'l', 'l', 's', 'u', 'k', 'i', '1']"
            ]
          },
          "metadata": {
            "tags": []
          },
          "execution_count": 26
        }
      ]
    },
    {
      "cell_type": "code",
      "metadata": {
        "id": "mvrEPmkKL_k3"
      },
      "source": [
        "from sklearn.feature_extraction.text import TfidfVectorizer"
      ],
      "execution_count": 27,
      "outputs": []
    },
    {
      "cell_type": "code",
      "metadata": {
        "id": "5DenXlVOMP8f"
      },
      "source": [
        "vector=TfidfVectorizer(tokenizer=word_divide_char)"
      ],
      "execution_count": 28,
      "outputs": []
    },
    {
      "cell_type": "code",
      "metadata": {
        "id": "2LCxASjVMaEH"
      },
      "source": [
        "x=vector.fit_transform(x)"
      ],
      "execution_count": 29,
      "outputs": []
    },
    {
      "cell_type": "code",
      "metadata": {
        "colab": {
          "base_uri": "https://localhost:8080/"
        },
        "id": "E69-wfy3Mi6S",
        "outputId": "9382cacf-ca6f-4c53-c9ba-829cd5f88141"
      },
      "source": [
        "x.shape"
      ],
      "execution_count": 30,
      "outputs": [
        {
          "output_type": "execute_result",
          "data": {
            "text/plain": [
              "(669639, 130)"
            ]
          },
          "metadata": {
            "tags": []
          },
          "execution_count": 30
        }
      ]
    },
    {
      "cell_type": "code",
      "metadata": {
        "colab": {
          "base_uri": "https://localhost:8080/"
        },
        "id": "6d0bjFhuMlVU",
        "outputId": "65072b1e-5081-48db-950b-114c581a92b4"
      },
      "source": [
        "vector.get_feature_names()"
      ],
      "execution_count": 32,
      "outputs": [
        {
          "output_type": "execute_result",
          "data": {
            "text/plain": [
              "['\\x05',\n",
              " '\\x06',\n",
              " '\\x08',\n",
              " '\\x10',\n",
              " '\\x11',\n",
              " '\\x16',\n",
              " '\\x17',\n",
              " '\\x19',\n",
              " '\\x1b',\n",
              " '\\x1c',\n",
              " '\\x1e',\n",
              " ' ',\n",
              " '!',\n",
              " '\"',\n",
              " '#',\n",
              " '$',\n",
              " '%',\n",
              " '&',\n",
              " '(',\n",
              " ')',\n",
              " '*',\n",
              " '+',\n",
              " '-',\n",
              " '.',\n",
              " '/',\n",
              " '0',\n",
              " '1',\n",
              " '2',\n",
              " '3',\n",
              " '4',\n",
              " '5',\n",
              " '6',\n",
              " '7',\n",
              " '8',\n",
              " '9',\n",
              " ';',\n",
              " '<',\n",
              " '=',\n",
              " '>',\n",
              " '?',\n",
              " '@',\n",
              " '[',\n",
              " '\\\\',\n",
              " ']',\n",
              " '^',\n",
              " '_',\n",
              " '`',\n",
              " 'a',\n",
              " 'b',\n",
              " 'c',\n",
              " 'd',\n",
              " 'e',\n",
              " 'f',\n",
              " 'g',\n",
              " 'h',\n",
              " 'i',\n",
              " 'j',\n",
              " 'k',\n",
              " 'l',\n",
              " 'm',\n",
              " 'n',\n",
              " 'o',\n",
              " 'p',\n",
              " 'q',\n",
              " 'r',\n",
              " 's',\n",
              " 't',\n",
              " 'u',\n",
              " 'v',\n",
              " 'w',\n",
              " 'x',\n",
              " 'y',\n",
              " 'z',\n",
              " '{',\n",
              " '|',\n",
              " '}',\n",
              " '~',\n",
              " '\\x7f',\n",
              " '\\x81',\n",
              " '\\x8d',\n",
              " '¡',\n",
              " '«',\n",
              " '°',\n",
              " '±',\n",
              " '²',\n",
              " '³',\n",
              " '´',\n",
              " 'µ',\n",
              " '¶',\n",
              " '·',\n",
              " '¹',\n",
              " 'º',\n",
              " '¼',\n",
              " '¾',\n",
              " '¿',\n",
              " '×',\n",
              " 'ß',\n",
              " 'à',\n",
              " 'á',\n",
              " 'â',\n",
              " 'ä',\n",
              " 'å',\n",
              " 'æ',\n",
              " 'é',\n",
              " 'ê',\n",
              " 'í',\n",
              " 'î',\n",
              " 'ï',\n",
              " 'ð',\n",
              " 'ñ',\n",
              " 'ò',\n",
              " 'ó',\n",
              " 'ô',\n",
              " 'õ',\n",
              " 'ö',\n",
              " '÷',\n",
              " 'ù',\n",
              " 'ú',\n",
              " 'û',\n",
              " 'ü',\n",
              " 'ý',\n",
              " 'þ',\n",
              " 'ÿ',\n",
              " 'œ',\n",
              " '—',\n",
              " '‚',\n",
              " '…',\n",
              " '‹',\n",
              " '›',\n",
              " '™']"
            ]
          },
          "metadata": {
            "tags": []
          },
          "execution_count": 32
        }
      ]
    },
    {
      "cell_type": "code",
      "metadata": {
        "colab": {
          "base_uri": "https://localhost:8080/"
        },
        "id": "IRHSVql1MrXf",
        "outputId": "8c77d48d-09ea-40d9-aa0e-bb0230b564b3"
      },
      "source": [
        "first_document_vector=x[0]\n",
        "first_document_vector"
      ],
      "execution_count": 33,
      "outputs": [
        {
          "output_type": "execute_result",
          "data": {
            "text/plain": [
              "<1x130 sparse matrix of type '<class 'numpy.float64'>'\n",
              "\twith 6 stored elements in Compressed Sparse Row format>"
            ]
          },
          "metadata": {
            "tags": []
          },
          "execution_count": 33
        }
      ]
    },
    {
      "cell_type": "code",
      "metadata": {
        "colab": {
          "base_uri": "https://localhost:8080/"
        },
        "id": "_JHuGHmuM5pk",
        "outputId": "47d7c5d0-b214-4dfa-fab1-5cf8f2a48edc"
      },
      "source": [
        "first_document_vector.T.todense()"
      ],
      "execution_count": 34,
      "outputs": [
        {
          "output_type": "execute_result",
          "data": {
            "text/plain": [
              "matrix([[0.        ],\n",
              "        [0.        ],\n",
              "        [0.        ],\n",
              "        [0.        ],\n",
              "        [0.        ],\n",
              "        [0.        ],\n",
              "        [0.        ],\n",
              "        [0.        ],\n",
              "        [0.        ],\n",
              "        [0.        ],\n",
              "        [0.        ],\n",
              "        [0.        ],\n",
              "        [0.        ],\n",
              "        [0.        ],\n",
              "        [0.        ],\n",
              "        [0.        ],\n",
              "        [0.        ],\n",
              "        [0.        ],\n",
              "        [0.        ],\n",
              "        [0.        ],\n",
              "        [0.        ],\n",
              "        [0.        ],\n",
              "        [0.        ],\n",
              "        [0.        ],\n",
              "        [0.        ],\n",
              "        [0.        ],\n",
              "        [0.        ],\n",
              "        [0.        ],\n",
              "        [0.        ],\n",
              "        [0.        ],\n",
              "        [0.56692063],\n",
              "        [0.        ],\n",
              "        [0.59136544],\n",
              "        [0.        ],\n",
              "        [0.        ],\n",
              "        [0.        ],\n",
              "        [0.        ],\n",
              "        [0.        ],\n",
              "        [0.        ],\n",
              "        [0.        ],\n",
              "        [0.        ],\n",
              "        [0.        ],\n",
              "        [0.        ],\n",
              "        [0.        ],\n",
              "        [0.        ],\n",
              "        [0.        ],\n",
              "        [0.        ],\n",
              "        [0.        ],\n",
              "        [0.        ],\n",
              "        [0.        ],\n",
              "        [0.28578036],\n",
              "        [0.22121266],\n",
              "        [0.        ],\n",
              "        [0.        ],\n",
              "        [0.        ],\n",
              "        [0.        ],\n",
              "        [0.        ],\n",
              "        [0.29218269],\n",
              "        [0.        ],\n",
              "        [0.        ],\n",
              "        [0.        ],\n",
              "        [0.        ],\n",
              "        [0.        ],\n",
              "        [0.        ],\n",
              "        [0.        ],\n",
              "        [0.        ],\n",
              "        [0.        ],\n",
              "        [0.        ],\n",
              "        [0.        ],\n",
              "        [0.        ],\n",
              "        [0.        ],\n",
              "        [0.        ],\n",
              "        [0.33602341],\n",
              "        [0.        ],\n",
              "        [0.        ],\n",
              "        [0.        ],\n",
              "        [0.        ],\n",
              "        [0.        ],\n",
              "        [0.        ],\n",
              "        [0.        ],\n",
              "        [0.        ],\n",
              "        [0.        ],\n",
              "        [0.        ],\n",
              "        [0.        ],\n",
              "        [0.        ],\n",
              "        [0.        ],\n",
              "        [0.        ],\n",
              "        [0.        ],\n",
              "        [0.        ],\n",
              "        [0.        ],\n",
              "        [0.        ],\n",
              "        [0.        ],\n",
              "        [0.        ],\n",
              "        [0.        ],\n",
              "        [0.        ],\n",
              "        [0.        ],\n",
              "        [0.        ],\n",
              "        [0.        ],\n",
              "        [0.        ],\n",
              "        [0.        ],\n",
              "        [0.        ],\n",
              "        [0.        ],\n",
              "        [0.        ],\n",
              "        [0.        ],\n",
              "        [0.        ],\n",
              "        [0.        ],\n",
              "        [0.        ],\n",
              "        [0.        ],\n",
              "        [0.        ],\n",
              "        [0.        ],\n",
              "        [0.        ],\n",
              "        [0.        ],\n",
              "        [0.        ],\n",
              "        [0.        ],\n",
              "        [0.        ],\n",
              "        [0.        ],\n",
              "        [0.        ],\n",
              "        [0.        ],\n",
              "        [0.        ],\n",
              "        [0.        ],\n",
              "        [0.        ],\n",
              "        [0.        ],\n",
              "        [0.        ],\n",
              "        [0.        ],\n",
              "        [0.        ],\n",
              "        [0.        ],\n",
              "        [0.        ],\n",
              "        [0.        ],\n",
              "        [0.        ],\n",
              "        [0.        ]])"
            ]
          },
          "metadata": {
            "tags": []
          },
          "execution_count": 34
        }
      ]
    },
    {
      "cell_type": "code",
      "metadata": {
        "colab": {
          "base_uri": "https://localhost:8080/",
          "height": 204
        },
        "id": "eTcGQnHjNG7M",
        "outputId": "0efbc681-52b4-4b63-f1bc-93f273b015d1"
      },
      "source": [
        "df=pd.DataFrame(first_document_vector.T.todense(),index=vector.get_feature_names(),columns=['TF=IDF'])             #converting array into dataframe\n",
        "df.head()"
      ],
      "execution_count": 35,
      "outputs": [
        {
          "output_type": "execute_result",
          "data": {
            "text/html": [
              "<div>\n",
              "<style scoped>\n",
              "    .dataframe tbody tr th:only-of-type {\n",
              "        vertical-align: middle;\n",
              "    }\n",
              "\n",
              "    .dataframe tbody tr th {\n",
              "        vertical-align: top;\n",
              "    }\n",
              "\n",
              "    .dataframe thead th {\n",
              "        text-align: right;\n",
              "    }\n",
              "</style>\n",
              "<table border=\"1\" class=\"dataframe\">\n",
              "  <thead>\n",
              "    <tr style=\"text-align: right;\">\n",
              "      <th></th>\n",
              "      <th>TF=IDF</th>\n",
              "    </tr>\n",
              "  </thead>\n",
              "  <tbody>\n",
              "    <tr>\n",
              "      <th>\u0005</th>\n",
              "      <td>0.0</td>\n",
              "    </tr>\n",
              "    <tr>\n",
              "      <th>\u0006</th>\n",
              "      <td>0.0</td>\n",
              "    </tr>\n",
              "    <tr>\n",
              "      <th>\b</th>\n",
              "      <td>0.0</td>\n",
              "    </tr>\n",
              "    <tr>\n",
              "      <th>\u0010</th>\n",
              "      <td>0.0</td>\n",
              "    </tr>\n",
              "    <tr>\n",
              "      <th>\u0011</th>\n",
              "      <td>0.0</td>\n",
              "    </tr>\n",
              "  </tbody>\n",
              "</table>\n",
              "</div>"
            ],
            "text/plain": [
              "   TF=IDF\n",
              "\u0005     0.0\n",
              "\u0006     0.0\n",
              "\b     0.0\n",
              "\u0010     0.0\n",
              "\u0011     0.0"
            ]
          },
          "metadata": {
            "tags": []
          },
          "execution_count": 35
        }
      ]
    },
    {
      "cell_type": "code",
      "metadata": {
        "colab": {
          "base_uri": "https://localhost:8080/",
          "height": 419
        },
        "id": "_vncm_33Njzx",
        "outputId": "6c6d7a13-f9eb-452c-a4df-6adf42574761"
      },
      "source": [
        " df.sort_values(by=['TF=IDF'],ascending=False)"
      ],
      "execution_count": 37,
      "outputs": [
        {
          "output_type": "execute_result",
          "data": {
            "text/html": [
              "<div>\n",
              "<style scoped>\n",
              "    .dataframe tbody tr th:only-of-type {\n",
              "        vertical-align: middle;\n",
              "    }\n",
              "\n",
              "    .dataframe tbody tr th {\n",
              "        vertical-align: top;\n",
              "    }\n",
              "\n",
              "    .dataframe thead th {\n",
              "        text-align: right;\n",
              "    }\n",
              "</style>\n",
              "<table border=\"1\" class=\"dataframe\">\n",
              "  <thead>\n",
              "    <tr style=\"text-align: right;\">\n",
              "      <th></th>\n",
              "      <th>TF=IDF</th>\n",
              "    </tr>\n",
              "  </thead>\n",
              "  <tbody>\n",
              "    <tr>\n",
              "      <th>7</th>\n",
              "      <td>0.591365</td>\n",
              "    </tr>\n",
              "    <tr>\n",
              "      <th>5</th>\n",
              "      <td>0.566921</td>\n",
              "    </tr>\n",
              "    <tr>\n",
              "      <th>z</th>\n",
              "      <td>0.336023</td>\n",
              "    </tr>\n",
              "    <tr>\n",
              "      <th>k</th>\n",
              "      <td>0.292183</td>\n",
              "    </tr>\n",
              "    <tr>\n",
              "      <th>d</th>\n",
              "      <td>0.285780</td>\n",
              "    </tr>\n",
              "    <tr>\n",
              "      <th>...</th>\n",
              "      <td>...</td>\n",
              "    </tr>\n",
              "    <tr>\n",
              "      <th>?</th>\n",
              "      <td>0.000000</td>\n",
              "    </tr>\n",
              "    <tr>\n",
              "      <th>&gt;</th>\n",
              "      <td>0.000000</td>\n",
              "    </tr>\n",
              "    <tr>\n",
              "      <th>=</th>\n",
              "      <td>0.000000</td>\n",
              "    </tr>\n",
              "    <tr>\n",
              "      <th>&lt;</th>\n",
              "      <td>0.000000</td>\n",
              "    </tr>\n",
              "    <tr>\n",
              "      <th>™</th>\n",
              "      <td>0.000000</td>\n",
              "    </tr>\n",
              "  </tbody>\n",
              "</table>\n",
              "<p>130 rows × 1 columns</p>\n",
              "</div>"
            ],
            "text/plain": [
              "      TF=IDF\n",
              "7   0.591365\n",
              "5   0.566921\n",
              "z   0.336023\n",
              "k   0.292183\n",
              "d   0.285780\n",
              "..       ...\n",
              "?   0.000000\n",
              ">   0.000000\n",
              "=   0.000000\n",
              "<   0.000000\n",
              "™   0.000000\n",
              "\n",
              "[130 rows x 1 columns]"
            ]
          },
          "metadata": {
            "tags": []
          },
          "execution_count": 37
        }
      ]
    },
    {
      "cell_type": "code",
      "metadata": {
        "id": "2L4UAELwNvdz"
      },
      "source": [
        "from sklearn.model_selection import train_test_split\n",
        "x_train,x_test,y_train,y_test=train_test_split(x,y,test_size=0.2)"
      ],
      "execution_count": 38,
      "outputs": []
    },
    {
      "cell_type": "code",
      "metadata": {
        "id": "s-vYit1wPUOf"
      },
      "source": [
        "from sklearn.linear_model import LogisticRegression"
      ],
      "execution_count": 39,
      "outputs": []
    },
    {
      "cell_type": "code",
      "metadata": {
        "colab": {
          "base_uri": "https://localhost:8080/"
        },
        "id": "PXb0y0wmPcnb",
        "outputId": "70734cac-28fe-4cc2-8b76-cb0790698bb6"
      },
      "source": [
        "clf=LogisticRegression(random_state=0,multi_class='multinomial')              #class is used as there are more than 2 categories rather than only 0 and 1.we have 0,1 and 2.\n",
        "clf.fit(x_train,y_train)"
      ],
      "execution_count": 42,
      "outputs": [
        {
          "output_type": "execute_result",
          "data": {
            "text/plain": [
              "LogisticRegression(C=1.0, class_weight=None, dual=False, fit_intercept=True,\n",
              "                   intercept_scaling=1, l1_ratio=None, max_iter=100,\n",
              "                   multi_class='multinomial', n_jobs=None, penalty='l2',\n",
              "                   random_state=0, solver='lbfgs', tol=0.0001, verbose=0,\n",
              "                   warm_start=False)"
            ]
          },
          "metadata": {
            "tags": []
          },
          "execution_count": 42
        }
      ]
    },
    {
      "cell_type": "code",
      "metadata": {
        "colab": {
          "base_uri": "https://localhost:8080/"
        },
        "id": "jgR794vSPyzh",
        "outputId": "bf897244-3526-457d-aa71-6fedf93950e2"
      },
      "source": [
        "#example-\n",
        "\n",
        "dt=np.array(['snajfdoje73e'])\n",
        "pred=vector.transform(dt)\n",
        "clf.predict(pred)"
      ],
      "execution_count": 43,
      "outputs": [
        {
          "output_type": "execute_result",
          "data": {
            "text/plain": [
              "array([1])"
            ]
          },
          "metadata": {
            "tags": []
          },
          "execution_count": 43
        }
      ]
    },
    {
      "cell_type": "code",
      "metadata": {
        "colab": {
          "base_uri": "https://localhost:8080/"
        },
        "id": "45zWzve4QfoM",
        "outputId": "dbc27364-d6f2-49b7-8c07-7b54ad5c7a65"
      },
      "source": [
        "predictions=clf.predict(x_test)\n",
        "predictions"
      ],
      "execution_count": 46,
      "outputs": [
        {
          "output_type": "execute_result",
          "data": {
            "text/plain": [
              "array([1, 1, 1, ..., 1, 1, 1])"
            ]
          },
          "metadata": {
            "tags": []
          },
          "execution_count": 46
        }
      ]
    },
    {
      "cell_type": "code",
      "metadata": {
        "id": "y5qZ75LEQlsB"
      },
      "source": [
        "from sklearn.metrics import confusion_matrix,accuracy_score"
      ],
      "execution_count": 47,
      "outputs": []
    },
    {
      "cell_type": "code",
      "metadata": {
        "colab": {
          "base_uri": "https://localhost:8080/"
        },
        "id": "DUa-bYgqRAB_",
        "outputId": "a0170ead-d8c5-4e8b-f0bf-8d164adc9da0"
      },
      "source": [
        "cm=confusion_matrix(y_test,predictions)\n",
        "cm"
      ],
      "execution_count": 48,
      "outputs": [
        {
          "output_type": "execute_result",
          "data": {
            "text/plain": [
              "array([[ 5205, 12641,    24],\n",
              "       [ 3811, 92938,  2568],\n",
              "       [   58,  5234, 11449]])"
            ]
          },
          "metadata": {
            "tags": []
          },
          "execution_count": 48
        }
      ]
    },
    {
      "cell_type": "code",
      "metadata": {
        "colab": {
          "base_uri": "https://localhost:8080/"
        },
        "id": "aKH_Auc0RM4i",
        "outputId": "98d01535-f205-4ad5-d024-4703d6a95f10"
      },
      "source": [
        "accuracy_score(y_test,predictions)"
      ],
      "execution_count": 49,
      "outputs": [
        {
          "output_type": "execute_result",
          "data": {
            "text/plain": [
              "0.818290424705812"
            ]
          },
          "metadata": {
            "tags": []
          },
          "execution_count": 49
        }
      ]
    },
    {
      "cell_type": "code",
      "metadata": {
        "colab": {
          "base_uri": "https://localhost:8080/",
          "height": 69
        },
        "id": "RS5EwDGoRTUw",
        "outputId": "285c9225-f73b-4ec7-845c-381d98aaf859"
      },
      "source": [
        "from sklearn.metrics import classification_report\n",
        "classification_report(y_test,predictions)"
      ],
      "execution_count": 51,
      "outputs": [
        {
          "output_type": "execute_result",
          "data": {
            "application/vnd.google.colaboratory.intrinsic+json": {
              "type": "string"
            },
            "text/plain": [
              "'              precision    recall  f1-score   support\\n\\n           0       0.57      0.29      0.39     17870\\n           1       0.84      0.94      0.88     99317\\n           2       0.82      0.68      0.74     16741\\n\\n    accuracy                           0.82    133928\\n   macro avg       0.74      0.64      0.67    133928\\nweighted avg       0.80      0.82      0.80    133928\\n'"
            ]
          },
          "metadata": {
            "tags": []
          },
          "execution_count": 51
        }
      ]
    },
    {
      "cell_type": "code",
      "metadata": {
        "id": "o0IPeYsFRePr"
      },
      "source": [
        ""
      ],
      "execution_count": null,
      "outputs": []
    }
  ]
}